{
 "cells": [
  {
   "cell_type": "code",
   "execution_count": 1,
   "metadata": {
    "collapsed": true
   },
   "outputs": [],
   "source": [
    "from trnsprt import model\n",
    "from pyomo.core.base.DataPortal import DataPortal\n",
    "import pprint"
   ]
  },
  {
   "cell_type": "markdown",
   "metadata": {},
   "source": [
    "I had to rewrite the definition of th distance parameter from a notation similar to the GAMS dot-notation to a table notation. Why did this work by initializing the model via the create_instance function but to load the .dat file into the DataPortal?"
   ]
  },
  {
   "cell_type": "code",
   "execution_count": 2,
   "metadata": {
    "collapsed": false
   },
   "outputs": [
    {
     "name": "stdout",
     "output_type": "stream",
     "text": [
      "{None: {'capacity_plant': {'san-diego': 600, 'seattle': 350},\n",
      "        'demand_market': {'chicago': 300, 'new-york': 325, 'topeka': 275},\n",
      "        'distance_in_thousand_miles': {('san-diego', 'chicago'): 1.8,\n",
      "                                       ('san-diego', 'new-york'): 2.5,\n",
      "                                       ('san-diego', 'topeka'): 1.4,\n",
      "                                       ('seattle', 'chicago'): 1.7,\n",
      "                                       ('seattle', 'new-york'): 2.5,\n",
      "                                       ('seattle', 'topeka'): 1.8},\n",
      "        'markets': {None: ['new-york', 'chicago', 'topeka']},\n",
      "        'plants': {None: ['seattle', 'san-diego']}}}\n"
     ]
    }
   ],
   "source": [
    "data = DataPortal()\n",
    "data.load(filename=\"trnsprt2.dat\")\n",
    "pp = pprint.PrettyPrinter()\n",
    "pp.pprint(data._data)"
   ]
  },
  {
   "cell_type": "markdown",
   "metadata": {},
   "source": [
    "Reading in the scalar value didn't work at all. So I had to add it manually to the dict. Why?"
   ]
  },
  {
   "cell_type": "code",
   "execution_count": 3,
   "metadata": {
    "collapsed": false
   },
   "outputs": [
    {
     "name": "stdout",
     "output_type": "stream",
     "text": [
      "{None: {'capacity_plant': {'san-diego': 600, 'seattle': 350},\n",
      "        'demand_market': {'chicago': 300, 'new-york': 325, 'topeka': 275},\n",
      "        'distance_in_thousand_miles': {('san-diego', 'chicago'): 1.8,\n",
      "                                       ('san-diego', 'new-york'): 2.5,\n",
      "                                       ('san-diego', 'topeka'): 1.4,\n",
      "                                       ('seattle', 'chicago'): 1.7,\n",
      "                                       ('seattle', 'new-york'): 2.5,\n",
      "                                       ('seattle', 'topeka'): 1.8},\n",
      "        'freight_costs_per_case_and_thousand_miles': {None: 90},\n",
      "        'markets': {None: ['new-york', 'chicago', 'topeka']},\n",
      "        'plants': {None: ['seattle', 'san-diego']}}}\n"
     ]
    }
   ],
   "source": [
    "data._data[None][\"freight_costs_per_case_and_thousand_miles\"] = {None: 90}\n",
    "pp.pprint(data._data)"
   ]
  },
  {
   "cell_type": "markdown",
   "metadata": {},
   "source": [
    "The \\_data dict from the DataPortal can be handed over as the dictionary to initialize the instance"
   ]
  },
  {
   "cell_type": "code",
   "execution_count": 4,
   "metadata": {
    "collapsed": false
   },
   "outputs": [
    {
     "name": "stdout",
     "output_type": "stream",
     "text": [
      "5 Set Declarations\n",
      "    distance_in_thousand_miles_index : Dim=0, Dimen=2, Size=6, Domain=None, Ordered=False, Bounds=None\n",
      "        Virtual\n",
      "    freight_costs_per_case_in_thousands_index : Dim=0, Dimen=2, Size=6, Domain=None, Ordered=False, Bounds=None\n",
      "        Virtual\n",
      "    markets : Markets\n",
      "        Dim=0, Dimen=1, Size=3, Domain=None, Ordered=False, Bounds=None\n",
      "        ['chicago', 'new-york', 'topeka']\n",
      "    plants : Canning plants\n",
      "        Dim=0, Dimen=1, Size=2, Domain=None, Ordered=False, Bounds=None\n",
      "        ['san-diego', 'seattle']\n",
      "    shipment_quantities_in_cases_index : Dim=0, Dimen=2, Size=6, Domain=None, Ordered=False, Bounds=None\n",
      "        Virtual\n",
      "\n",
      "5 Param Declarations\n",
      "    capacity_plant : Capacity of a plant in cases\n",
      "        Size=2, Index=plants, Domain=Any, Default=None, Mutable=False\n",
      "        Key       : Value\n",
      "        san-diego :   600\n",
      "          seattle :   350\n",
      "    demand_market : Demand of a market in cases\n",
      "        Size=3, Index=markets, Domain=Any, Default=None, Mutable=False\n",
      "        Key      : Value\n",
      "         chicago :   300\n",
      "        new-york :   325\n",
      "          topeka :   275\n",
      "    distance_in_thousand_miles : Distance between plant and marekt in thousands of miles\n",
      "        Size=6, Index=distance_in_thousand_miles_index, Domain=Any, Default=None, Mutable=False\n",
      "        Key                       : Value\n",
      "         ('san-diego', 'chicago') :   1.8\n",
      "        ('san-diego', 'new-york') :   2.5\n",
      "          ('san-diego', 'topeka') :   1.4\n",
      "           ('seattle', 'chicago') :   1.7\n",
      "          ('seattle', 'new-york') :   2.5\n",
      "            ('seattle', 'topeka') :   1.8\n",
      "    freight_costs_per_case_and_thousand_miles : Freight in dollars per case per thousand miles\n",
      "        Size=1, Index=None, Domain=Any, Default=None, Mutable=False\n",
      "        Key  : Value\n",
      "        None :    90\n",
      "    freight_costs_per_case_in_thousands : Transport cost in thousands of dollar per case\n",
      "        Size=6, Index=freight_costs_per_case_in_thousands_index, Domain=Any, Default=None, Mutable=False\n",
      "        Key                       : Value\n",
      "         ('san-diego', 'chicago') :               0.162\n",
      "        ('san-diego', 'new-york') :               0.225\n",
      "          ('san-diego', 'topeka') : 0.12599999999999997\n",
      "           ('seattle', 'chicago') :               0.153\n",
      "          ('seattle', 'new-york') :               0.225\n",
      "            ('seattle', 'topeka') :               0.162\n",
      "\n",
      "1 Var Declarations\n",
      "    shipment_quantities_in_cases : Shipment quantities in case\n",
      "        Size=6, Index=shipment_quantities_in_cases_index\n",
      "        Key                       : Lower : Value : Upper : Fixed : Stale : Domain\n",
      "         ('san-diego', 'chicago') :     0 :  None :  None : False :  True :  Reals\n",
      "        ('san-diego', 'new-york') :     0 :  None :  None : False :  True :  Reals\n",
      "          ('san-diego', 'topeka') :     0 :  None :  None : False :  True :  Reals\n",
      "           ('seattle', 'chicago') :     0 :  None :  None : False :  True :  Reals\n",
      "          ('seattle', 'new-york') :     0 :  None :  None : False :  True :  Reals\n",
      "            ('seattle', 'topeka') :     0 :  None :  None : False :  True :  Reals\n",
      "\n",
      "1 Objective Declarations\n",
      "    objective : Define objective function\n",
      "        Size=1, Index=None, Active=True\n",
      "        Key  : Active : Sense    : Expression\n",
      "        None :   True : minimize : 0.12599999999999997*shipment_quantities_in_cases[san-diego,topeka] + 0.225*shipment_quantities_in_cases[san-diego,new-york] + 0.162*shipment_quantities_in_cases[san-diego,chicago] + 0.162*shipment_quantities_in_cases[seattle,topeka] + 0.225*shipment_quantities_in_cases[seattle,new-york] + 0.153*shipment_quantities_in_cases[seattle,chicago]\n",
      "\n",
      "2 Constraint Declarations\n",
      "    demand_constraint : Satisfy demand at each market\n",
      "        Size=3, Index=markets, Active=True\n",
      "        Key      : Lower : Body                                                                                              : Upper : Active\n",
      "         chicago : 300.0 :   shipment_quantities_in_cases[san-diego,chicago] + shipment_quantities_in_cases[seattle,chicago] :  +Inf :   True\n",
      "        new-york : 325.0 : shipment_quantities_in_cases[san-diego,new-york] + shipment_quantities_in_cases[seattle,new-york] :  +Inf :   True\n",
      "          topeka : 275.0 :     shipment_quantities_in_cases[san-diego,topeka] + shipment_quantities_in_cases[seattle,topeka] :  +Inf :   True\n",
      "    supply_constraint : Limit supply limit at each plant\n",
      "        Size=2, Index=plants, Active=True\n",
      "        Key       : Lower : Body                                                                                                                                                : Upper : Active\n",
      "        san-diego :  -Inf : shipment_quantities_in_cases[san-diego,topeka] + shipment_quantities_in_cases[san-diego,new-york] + shipment_quantities_in_cases[san-diego,chicago] : 600.0 :   True\n",
      "          seattle :  -Inf :       shipment_quantities_in_cases[seattle,topeka] + shipment_quantities_in_cases[seattle,new-york] + shipment_quantities_in_cases[seattle,chicago] : 350.0 :   True\n",
      "\n",
      "14 Declarations: plants markets capacity_plant demand_market distance_in_thousand_miles_index distance_in_thousand_miles freight_costs_per_case_and_thousand_miles freight_costs_per_case_in_thousands_index freight_costs_per_case_in_thousands shipment_quantities_in_cases_index shipment_quantities_in_cases supply_constraint demand_constraint objective\n"
     ]
    }
   ],
   "source": [
    "instance = model.create_instance(data=data._data)\n",
    "instance.pprint()"
   ]
  },
  {
   "cell_type": "code",
   "execution_count": 5,
   "metadata": {
    "collapsed": false
   },
   "outputs": [
    {
     "name": "stdout",
     "output_type": "stream",
     "text": [
      "# ==========================================================\n",
      "# = Solver Results                                         =\n",
      "# ==========================================================\n",
      "# ----------------------------------------------------------\n",
      "#   Problem Information\n",
      "# ----------------------------------------------------------\n",
      "Problem: \n",
      "- Name: unknown\n",
      "  Lower bound: 153.675\n",
      "  Upper bound: 153.675\n",
      "  Number of objectives: 1\n",
      "  Number of constraints: 6\n",
      "  Number of variables: 7\n",
      "  Number of nonzeros: 13\n",
      "  Sense: minimize\n",
      "# ----------------------------------------------------------\n",
      "#   Solver Information\n",
      "# ----------------------------------------------------------\n",
      "Solver: \n",
      "- Status: ok\n",
      "  Termination condition: optimal\n",
      "  Statistics: \n",
      "    Branch and bound: \n",
      "      Number of bounded subproblems: 0\n",
      "      Number of created subproblems: 0\n",
      "  Error rc: 0\n",
      "  Time: 0.020998477935791016\n",
      "# ----------------------------------------------------------\n",
      "#   Solution Information\n",
      "# ----------------------------------------------------------\n",
      "Solution: \n",
      "- number of solutions: 0\n",
      "  number of solutions displayed: 0\n"
     ]
    }
   ],
   "source": [
    "from pyomo.opt import SolverFactory\n",
    "opt = SolverFactory(\"glpk\")\n",
    "results = opt.solve(instance)\n",
    "results.write()"
   ]
  }
 ],
 "metadata": {
  "kernelspec": {
   "display_name": "Python [default]",
   "language": "python",
   "name": "python3"
  },
  "language_info": {
   "codemirror_mode": {
    "name": "ipython",
    "version": 3
   },
   "file_extension": ".py",
   "mimetype": "text/x-python",
   "name": "python",
   "nbconvert_exporter": "python",
   "pygments_lexer": "ipython3",
   "version": "3.5.2"
  }
 },
 "nbformat": 4,
 "nbformat_minor": 1
}
