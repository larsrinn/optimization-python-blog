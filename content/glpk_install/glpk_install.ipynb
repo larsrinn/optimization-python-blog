{
 "cells": [
  {
   "cell_type": "markdown",
   "metadata": {},
   "source": [
    "# ToDo\n",
    "* Link einfügen zum Skript zum Überprüfen ob Installation erfolgreich war\n",
    "* Testen aus Dokumentation 18.13\n",
    "\n",
    "# How to install GLPK and use it with Pyomo on Windows\n",
    "The GNU project offers the [GNU Linear Programming Toolkit (GLPK)](https://www.gnu.org/software/glpk/). It is a package intended to solve linear and mixed integer optimization problems. Compared to state-of-the-art proprieatary solvers like Gurobi or CPLEX the GLPK solver is [very slow](http://prod.sandia.gov/techlib/access-control.cgi/2013/138847.pdf). Performance increases in the order of 100 are possible when using a commercial solver. However, it integrates well with Pyomo and since it is free and open source, it is a greate possibility to solve \"small\" problems without having the need to spent thousands of euros for commercial licenses. By the way, if you're an academic user, you can get a [free version](http://www.gurobi.com/academia/for-universities) of Gurobi.\n",
    "\n",
    "As GLPK is released under the GNU project, it is very \"unix-focused\". While it also [runs on windows](http://winglpk.sourceforge.net/), installation is neither self-explanatory nor well documented. This is why I wrote this blog post.\n",
    "\n",
    "## Installation of GLPK\n",
    "The binaries to run on Windows can be found [here](https://sourceforge.net/projects/winglpk/). Simply download the latest zip-file. The zip-file contains the binaries for 32- and 64-bit-systems in the folders `w32` and `w64`. The remaining files and folders are not required, if you only want to use the GLPK solver for Pyomo. \n",
    "\n",
    "### Copy the library files\n",
    "The official GLPK installation documentation states, that you need to copy the content of the `w32` or `w64` folder to your system %PATH%. They suggest that you use the `%SystemRoot%\\system32` folder (most likely this will be `c:\\windows\\system32`) as a target.\n",
    "\n",
    "### Alternative: Add the folder to the path variable\n",
    "If you don't want to copy files to the `%SystemRoot%\\system32` folder or don't have the permissions to do so, you can also copy the files to an arbitrary folder and add that one to the `PATH` environment variable. You can find instructions on how do to that [here (for Windows 10)](https://superuser.com/questions/949560/how-do-i-set-system-environment-variables-in-windows-10) or [here (for Windows 7, follow the instructions by the user Bird)](http://stackoverflow.com/questions/23400030/windows-7-add-path). Make sure, that you add to the system variables. And also ensure that the folder is added to the path permanently (hence, not using the `set` command from the command line)\n",
    "\n",
    "### Reboot your PC\n",
    "Unfortunately I couldn't find a solution that avoids rebooting your PC. You need to do that in order for Windows to rescan the dll-files of the folders listed in your PATH environment variable. If somebody has a solution, please leave me a comment.\n",
    "\n",
    "## Installation of Pyomo\n",
    "Pyomo can be simply installed like any other Python package available on [PyPI](https://pypi.python.org/pypi). Simply type \n",
    "```\n",
    "pip install pyomo\n",
    "``` \n",
    "to the command line of your choice (I use and recommend the git bash you get for free when installing [git on Windows](https://git-scm.com/download/win) (which you should most definitely do)). The full installation documentation for Pyomo can be found [here](http://www.pyomo.org/installation)\n",
    "\n",
    "## Check for successful installation\n",
    "I wrote a small (actually non-sense) pyomo model that is being solved by GLPK. You can download it here. Simply run it from the command line and it will tell you, whether pyomo and GLPK are installed and working together successfully. "
   ]
  },
  {
   "cell_type": "code",
   "execution_count": 1,
   "metadata": {
    "collapsed": false
   },
   "outputs": [
    {
     "name": "stdout",
     "output_type": "stream",
     "text": [
      "GLPK successfully installed\n"
     ]
    }
   ],
   "source": [
    "!python glpk_install/glpk_installed.py"
   ]
  },
  {
   "cell_type": "markdown",
   "metadata": {},
   "source": [
    "Congratulations, you successfully installed Pyomo and GLPK on your PC. Now you should be able to follow along the examples on this post and write your own, simple optimization problems.\n",
    "\n",
    "# Encountered errors\n",
    "If you encountered any errors and are not able to install GLPK and pyomo, leave me a comment. I'll be happy to help"
   ]
  }
 ],
 "metadata": {
  "anaconda-cloud": {},
  "kernelspec": {
   "display_name": "Python [conda root]",
   "language": "python",
   "name": "conda-root-py"
  },
  "language_info": {
   "codemirror_mode": {
    "name": "ipython",
    "version": 3
   },
   "file_extension": ".py",
   "mimetype": "text/x-python",
   "name": "python",
   "nbconvert_exporter": "python",
   "pygments_lexer": "ipython3",
   "version": "3.5.2"
  }
 },
 "nbformat": 4,
 "nbformat_minor": 0
}
