{
 "cells": [
  {
   "cell_type": "markdown",
   "metadata": {},
   "source": [
    "# ToDo\n",
    "* Höchstleistung in Variablenlimits\n",
    "* Auch Entladen möglich? Dann muss der aktuelle Ladezustand zu jedem Zeitpunkt überwacht werden\n",
    "* Skalare Parameter machen keinen Sinn, wenn konkrete Modelle initialisiert werden\n",
    "\n",
    "# Assumptions and requirements\n",
    "* Optimize electric car charging\n",
    "* Neglection of battery lifetime saving charging\n",
    "* Assuming charger has a maximum power. The actual charging power can be regulated between zero and the maximum charging power without intervals\n",
    "* The optimization period can be of arbitray length. For the optimization period, a minimum and a maximum amount of charged energy can be defined as parameters.\n",
    "* The time resolution is 15 minutes, according to the balancing time spans in the German wholesale market\n",
    "\n",
    "# Model formulation\n",
    "\n",
    "## Sets\n",
    "Time steps - defining the start of each 15 minute long balancing interval"
   ]
  },
  {
   "cell_type": "code",
   "execution_count": 1,
   "metadata": {
    "collapsed": true
   },
   "outputs": [],
   "source": [
    "from pyomo.environ import AbstractModel, Set, Param, Var, Constraint, Objective, minimize\n",
    "\n",
    "model = AbstractModel()\n",
    "model.time = Set(doc=\"Timesteps defining the start of each 15 minute long balancing interval\")"
   ]
  },
  {
   "cell_type": "markdown",
   "metadata": {},
   "source": [
    "## Parameters\n",
    "Maximum charging power in kilowatts"
   ]
  },
  {
   "cell_type": "code",
   "execution_count": 2,
   "metadata": {
    "collapsed": true
   },
   "outputs": [],
   "source": [
    "model.maximum_power = Param(doc=\"Maximum charging power in kilowatts\")"
   ]
  },
  {
   "cell_type": "markdown",
   "metadata": {},
   "source": [
    "Electricity price in euros per megawatthour"
   ]
  },
  {
   "cell_type": "code",
   "execution_count": 3,
   "metadata": {
    "collapsed": false
   },
   "outputs": [],
   "source": [
    "model.electricity_price = Param(model.time, doc=\"Electricity price in Euro per Megawatthour for each balancing interval\")"
   ]
  },
  {
   "cell_type": "markdown",
   "metadata": {},
   "source": [
    "Minimum and maximum of charging energy in kilowatthours\n",
    "* Presumably, the model will always decide to only charge the minimal amount. However in cases of very low, negative, electricity prices, charging more than required could be beneficial"
   ]
  },
  {
   "cell_type": "code",
   "execution_count": 4,
   "metadata": {
    "collapsed": false
   },
   "outputs": [],
   "source": [
    "model.minimum_energy = Param(doc=\"Minimum charging energy till last timestep\")\n",
    "model.maximum_energy = Param(doc=\"Maximum charging energy till last timestep\")"
   ]
  },
  {
   "cell_type": "markdown",
   "metadata": {},
   "source": [
    "## Variables\n",
    "Charging power in kilowatts at each timestep"
   ]
  },
  {
   "cell_type": "code",
   "execution_count": 5,
   "metadata": {
    "collapsed": true
   },
   "outputs": [],
   "source": [
    "model.current_charging_power = Var(model.time, bounds=(0, None), doc=\"Charging power at each timestep in kilowatts\")"
   ]
  },
  {
   "cell_type": "markdown",
   "metadata": {},
   "source": [
    "## Constraints\n",
    "Limit maximum charging power"
   ]
  },
  {
   "cell_type": "code",
   "execution_count": 6,
   "metadata": {
    "collapsed": true
   },
   "outputs": [],
   "source": [
    "def maximum_charging_power_rule(model, time):\n",
    "    return model.current_charging_power[time] <= model.maximum_power\n",
    "model.maximum_power_constraint = Constraint(model.time, rule=maximum_charging_power_rule, doc='Limit of maximum charging power')"
   ]
  },
  {
   "cell_type": "markdown",
   "metadata": {},
   "source": [
    "Ensure that minimum energy is charged but maximum energy not exceeded"
   ]
  },
  {
   "cell_type": "code",
   "execution_count": 7,
   "metadata": {
    "collapsed": false
   },
   "outputs": [],
   "source": [
    "def minimum_energy_rule(model):\n",
    "    return sum(model.current_charging_power[time] for time in model.time) * 0.25 >= model.minimum_energy\n",
    "def maximum_energy_rule(model):\n",
    "    return sum(model.current_charging_power[time] for time in model.time) * 0.25 <= model.maximum_energy\n",
    "\n",
    "model.minimum_energy_constraint = Constraint(rule=minimum_energy_rule, doc='Ensure the minimum amount of electricity is charged')\n",
    "model.maximum_energy_constraint = Constraint(rule=maximum_energy_rule, doc='Ensure the maximum amount of electricity is not exceeded')"
   ]
  },
  {
   "cell_type": "markdown",
   "metadata": {},
   "source": [
    "## Objective"
   ]
  },
  {
   "cell_type": "code",
   "execution_count": 8,
   "metadata": {
    "collapsed": false
   },
   "outputs": [
    {
     "name": "stdout",
     "output_type": "stream",
     "text": [
      "1 Set Declarations\n",
      "    time : Timesteps defining the start of each 15 minute long balancing interval\n",
      "        Dim=0, Dimen=1, Size=0, Domain=None, Ordered=False, Bounds=None\n",
      "        Not constructed\n",
      "\n",
      "4 Param Declarations\n",
      "    electricity_price : Electricity price in Euro per Megawatthour for each balancing interval\n",
      "        Size=0, Index=time, Domain=Any, Default=None, Mutable=False\n",
      "        Not constructed\n",
      "    maximum_energy : Maximum charging energy till last timestep\n",
      "        Size=1, Index=None, Domain=Any, Default=None, Mutable=False\n",
      "        Not constructed\n",
      "    maximum_power : Maximum charging power in kilowatts\n",
      "        Size=1, Index=None, Domain=Any, Default=None, Mutable=False\n",
      "        Not constructed\n",
      "    minimum_energy : Minimum charging energy till last timestep\n",
      "        Size=1, Index=None, Domain=Any, Default=None, Mutable=False\n",
      "        Not constructed\n",
      "\n",
      "1 Var Declarations\n",
      "    current_charging_power : Charging power at each timestep in kilowatts\n",
      "        Size=0, Index=time\n",
      "        Not constructed\n",
      "\n",
      "1 Objective Declarations\n",
      "    objective : Minimize electricity costs\n",
      "        Size=0, Index=None, Active=True\n",
      "        Not constructed\n",
      "\n",
      "3 Constraint Declarations\n",
      "    maximum_energy_constraint : Ensure the maximum amount of electricity is not exceeded\n",
      "        Size=0, Index=None, Active=True\n",
      "        Not constructed\n",
      "    maximum_power_constraint : Limit of maximum charging power\n",
      "        Size=0, Index=time, Active=True\n",
      "        Not constructed\n",
      "    minimum_energy_constraint : Ensure the minimum amount of electricity is charged\n",
      "        Size=0, Index=None, Active=True\n",
      "        Not constructed\n",
      "\n",
      "10 Declarations: time maximum_power electricity_price minimum_energy maximum_energy current_charging_power maximum_power_constraint minimum_energy_constraint maximum_energy_constraint objective\n"
     ]
    }
   ],
   "source": [
    "def objective_rule(model):\n",
    "    return sum(model.electricity_price[time] * model.current_charging_power[time] for time in model.time)\n",
    "\n",
    "model.objective = Objective(rule=objective_rule, sense=minimize, doc='Minimize electricity costs')\n",
    "model.pprint()"
   ]
  },
  {
   "cell_type": "markdown",
   "metadata": {},
   "source": [
    "# Create and run the instance"
   ]
  },
  {
   "cell_type": "code",
   "execution_count": 9,
   "metadata": {
    "collapsed": false
   },
   "outputs": [
    {
     "name": "stdout",
     "output_type": "stream",
     "text": [
      "1 Set Declarations\n",
      "    time : Timesteps defining the start of each 15 minute long balancing interval\n",
      "        Dim=0, Dimen=1, Size=4, Domain=None, Ordered=False, Bounds=(1, 4)\n",
      "        [1, 2, 3, 4]\n",
      "\n",
      "4 Param Declarations\n",
      "    electricity_price : Electricity price in Euro per Megawatthour for each balancing interval\n",
      "        Size=4, Index=time, Domain=Any, Default=None, Mutable=False\n",
      "        Key : Value\n",
      "          1 :    20\n",
      "          2 :    30\n",
      "          3 :   -20\n",
      "          4 :    10\n",
      "    maximum_energy : Maximum charging energy till last timestep\n",
      "        Size=1, Index=None, Domain=Any, Default=None, Mutable=False\n",
      "        Key  : Value\n",
      "        None :     5\n",
      "    maximum_power : Maximum charging power in kilowatts\n",
      "        Size=1, Index=None, Domain=Any, Default=None, Mutable=False\n",
      "        Key  : Value\n",
      "        None :    22\n",
      "    minimum_energy : Minimum charging energy till last timestep\n",
      "        Size=1, Index=None, Domain=Any, Default=None, Mutable=False\n",
      "        Key  : Value\n",
      "        None :     3\n",
      "\n",
      "1 Var Declarations\n",
      "    current_charging_power : Charging power at each timestep in kilowatts\n",
      "        Size=4, Index=time\n",
      "        Key : Lower : Value : Upper : Fixed : Stale : Domain\n",
      "          1 :     0 :  None :  None : False :  True :  Reals\n",
      "          2 :     0 :  None :  None : False :  True :  Reals\n",
      "          3 :     0 :  None :  None : False :  True :  Reals\n",
      "          4 :     0 :  None :  None : False :  True :  Reals\n",
      "\n",
      "1 Objective Declarations\n",
      "    objective : Minimize electricity costs\n",
      "        Size=1, Index=None, Active=True\n",
      "        Key  : Active : Sense    : Expression\n",
      "        None :   True : minimize : 20*current_charging_power[1] + 30*current_charging_power[2] - 20*current_charging_power[3] + 10*current_charging_power[4]\n",
      "\n",
      "3 Constraint Declarations\n",
      "    maximum_energy_constraint : Ensure the maximum amount of electricity is not exceeded\n",
      "        Size=1, Index=None, Active=True\n",
      "        Key  : Lower : Body                                                                                                                     : Upper          : Active\n",
      "        None :  -Inf : 0.25 * ( current_charging_power[1] + current_charging_power[2] + current_charging_power[3] + current_charging_power[4] ) : maximum_energy :   True\n",
      "    maximum_power_constraint : Limit of maximum charging power\n",
      "        Size=4, Index=time, Active=True\n",
      "        Key : Lower : Body                      : Upper         : Active\n",
      "          1 :  -Inf : current_charging_power[1] : maximum_power :   True\n",
      "          2 :  -Inf : current_charging_power[2] : maximum_power :   True\n",
      "          3 :  -Inf : current_charging_power[3] : maximum_power :   True\n",
      "          4 :  -Inf : current_charging_power[4] : maximum_power :   True\n",
      "    minimum_energy_constraint : Ensure the minimum amount of electricity is charged\n",
      "        Size=1, Index=None, Active=True\n",
      "        Key  : Lower          : Body                                                                                                                     : Upper : Active\n",
      "        None : minimum_energy : 0.25 * ( current_charging_power[1] + current_charging_power[2] + current_charging_power[3] + current_charging_power[4] ) :  +Inf :   True\n",
      "\n",
      "10 Declarations: time maximum_power electricity_price minimum_energy maximum_energy current_charging_power maximum_power_constraint minimum_energy_constraint maximum_energy_constraint objective\n"
     ]
    }
   ],
   "source": [
    "instance = model.create_instance(filename='ev_charging.dat')\n",
    "instance.pprint()"
   ]
  }
 ],
 "metadata": {
  "anaconda-cloud": {},
  "kernelspec": {
   "display_name": "Python [default]",
   "language": "python",
   "name": "python3"
  },
  "language_info": {
   "codemirror_mode": {
    "name": "ipython",
    "version": 3
   },
   "file_extension": ".py",
   "mimetype": "text/x-python",
   "name": "python",
   "nbconvert_exporter": "python",
   "pygments_lexer": "ipython3",
   "version": "3.5.2"
  }
 },
 "nbformat": 4,
 "nbformat_minor": 1
}
