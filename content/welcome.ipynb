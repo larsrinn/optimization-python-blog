{
 "cells": [
  {
   "cell_type": "markdown",
   "metadata": {},
   "source": [
    "# Welcome to my blog\n",
    "Dear reader, I'm actually surprised, you made it to this blog. Sometimes I have the impression, I don't know anything about coding and data science. Usually this happens when I'm trying to solve some problem where I have to ask to Google every 2 minutes. Usually it leads me to Stack Overflow or to a random blog. Because I'm really thankful for these resources (and for Google making it easy to access them), I thought I might start my own blog in order to give something back to the community. \n",
    "\n",
    "Even though I feel like I don't know anything, I'm pretty sure there are thousands of people out there, who are trying to solve similar problems with a comparable skill set. So I want to blog about issues I had by implementing the things I've been working on during my day-job and explain to you how I solved them. Maybe some of you, can benefit from these thoughts, comments and instructions. And even if nobody is going to read this blog, I'm sure it is worth the effort. Simply because writing the stuff down will help me to understand it better. And eventually, I'll build up my own reference book. \n",
    "\n",
    "But to be honest, I'm skeptical whether I'll be able to publish posts on a regularly basis. I might be motivated at the moment, but spring is about to start. Probably I'll value mountainbiking, swimming and hanging out at [Augustinerplatz](https://www.flickr.com/photos/benediktv/7138704209) more than writing, once the weather allows for it.\n",
    "\n",
    "# Topics\n",
    "So what am I going to write about? Most likely, it is going to be Python and data science focused. Or maybe I will rather bridge the gap between data science and web development in Python. I'm very attracted by the idea of setting up a webserver running on Python, that offers some kind of data science related service. Maybe that server doesn't have to be accessible from the public web, but can serve as a microservice in a bigger application - I'll definitely explore that idea.\n",
    "\n",
    "## Mathematical optimization\n",
    "I wrote my master thesis at [Fraunhofer-Institue for Solar Energy](http://www.ise.fraunhofer.de/) working on energy system analysis. While I was doing that, I had to develop a [GAMS](http://www.gams.com) model. And to be honest, I hated GAMS and the whole toolchain around it. GAMS was initially developed at World Bank in the seventies. And sometimes it feels like coding must have been in the seventies. I was excited by finding out about [Pyomo](http://www.pyomo.org/) because it provides all the benefits from modern programming languages and enables an easier and more intuitive writing of optimization models. So my first couple of blog posts are likely to deal with Pyomo. Not just plain Pyomo, but making use of the available toolchain in Python: [NumPy](http://www.numpy.org/), [Pandas](http://pandas.pydata.org/), [Matplotlib](http://matplotlib.org/) and whatever might be the most appropriate for IO-operations.\n",
    "\n",
    "# Technology\n",
    "To setup this blog, I followed the instructions from [Dataquest](https://www.dataquest.io/blog/how-to-setup-a-data-science-blog/). The files, that are uploaded to the internet, are plain HTML - generated using the static site generator [Pelican](https://blog.getpelican.com/). Using the [pelican-ipynb](https://github.com/danielfrg/pelican-ipynb) plugin, enables me to write the posts as simple Jupyter notebooks."
   ]
  }
 ],
 "metadata": {
  "anaconda-cloud": {},
  "kernelspec": {
   "display_name": "Python [default]",
   "language": "python",
   "name": "python3"
  },
  "language_info": {
   "codemirror_mode": {
    "name": "ipython",
    "version": 3
   },
   "file_extension": ".py",
   "mimetype": "text/x-python",
   "name": "python",
   "nbconvert_exporter": "python",
   "pygments_lexer": "ipython3",
   "version": "3.5.2"
  }
 },
 "nbformat": 4,
 "nbformat_minor": 1
}
