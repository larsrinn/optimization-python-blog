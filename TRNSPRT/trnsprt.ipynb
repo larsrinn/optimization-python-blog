{
 "cells": [
  {
   "cell_type": "markdown",
   "metadata": {},
   "source": [
    "# ToDo\n",
    "* Referencing the original model\n",
    "* How to initialize a parameter calling a function in an abstract model? Explain, that it works the same way\n",
    "* Objective subclass of Constraint?\n",
    "\n",
    "# Motivation\n",
    "The Pyomo-Documentation contains a [gallery](https://github.com/Pyomo/PyomoGallery/wiki), where the most popular introduction model to [GAMS](http://www.gams.com/) is rewritten using the Pyomo-package: [TRNSPRT](http://nbviewer.jupyter.org/github/Pyomo/PyomoGallery/blob/master/transport/transport.ipynb). \n",
    "\n",
    "However, in the pyomo gallery the model is created as a concrete model. This means, all sets and parameters need to be defined in the model file. For most practical applications it is desirable to create an abstract model that can be initialized with varying data, in order to use the model for more purposes. I'm going to show how to create the transport model as an abstract model, initialize it with the data of the standard example and solve the problem. I suggest you look through the example in the pyomo gallery before reading this post, because I won't repeat the explanation of some interesting details.\n",
    "\n",
    "# The transport model\n",
    "The transport model is an optimization of the transport costs of one good. Production capacities of the plants must not be exceeded, while the demand at the markets must be met. The transport costs are linear with respect to the freight and the distance between a plant and a market. For a description of the transport model using mathematical terms see the example in the [pyomo gallery](http://nbviewer.jupyter.org/github/Pyomo/PyomoGallery/blob/master/transport/transport.ipynb).\n",
    "\n",
    "In the original description of the model, as well as in the replication in the pyomo gallery, simple characters are used as designators for sets, parameters and variables. While this might the mathematical convention, I'm going to deviate from that approach and use descriptive names.\n",
    "\n",
    "# Implementation of the abstract model\n",
    "In contrast to the example in the pyomo gallery, the model must be an object of the class `ConcreteModel`. "
   ]
  },
  {
   "cell_type": "code",
   "execution_count": 1,
   "metadata": {
    "collapsed": true
   },
   "outputs": [],
   "source": [
    "from pyomo.environ import *\n",
    " \n",
    "model = AbstractModel()"
   ]
  },
  {
   "cell_type": "markdown",
   "metadata": {},
   "source": [
    "## Set definitions"
   ]
  },
  {
   "cell_type": "code",
   "execution_count": 2,
   "metadata": {
    "collapsed": true
   },
   "outputs": [],
   "source": [
    "model.plants = Set(doc=\"Canning plants\")\n",
    "model.markets = Set(doc=\"Markets\")"
   ]
  },
  {
   "cell_type": "markdown",
   "metadata": {},
   "source": [
    "## Parameter definitions"
   ]
  },
  {
   "cell_type": "code",
   "execution_count": 3,
   "metadata": {
    "collapsed": true
   },
   "outputs": [],
   "source": [
    "model.capacity_plant = Param(model.plants, doc='Capacity of a plant in cases')\n",
    "model.demand_market = Param(model.markets, doc='Demand of a market in cases')\n",
    "model.distance_in_thousand_miles = Param(model.plants, model.markets, doc='Distance between plant and marekt in thousands of miles')\n",
    "model.freight_costs_per_case_and_thousand_miles = Param(initialize=90, doc='Freight in dollars per case per thousand miles')"
   ]
  },
  {
   "cell_type": "code",
   "execution_count": 4,
   "metadata": {
    "collapsed": true
   },
   "outputs": [],
   "source": [
    "def c_init(model, plant, market):\n",
    "  return model.freight_costs_per_case_and_thousand_miles * model.distance_in_thousand_miles[plant,market] / 1000\n",
    "model.freight_costs_per_case_in_thousands = Param(model.plants, model.markets, initialize=c_init, doc='Transport cost in thousands of dollar per case')"
   ]
  },
  {
   "cell_type": "markdown",
   "metadata": {},
   "source": [
    "## Variable definitions"
   ]
  },
  {
   "cell_type": "code",
   "execution_count": 5,
   "metadata": {
    "collapsed": true
   },
   "outputs": [],
   "source": [
    "model.shipment_quantities_in_cases = Var(model.plants, model.markets, bounds=(0, None), doc='Shipment quantities in case')"
   ]
  },
  {
   "cell_type": "markdown",
   "metadata": {},
   "source": [
    "## Constraints\n",
    "* Here you can see how using descriptive names enhances the model readibility\n",
    "* Explain how the supply_rule function is called"
   ]
  },
  {
   "cell_type": "code",
   "execution_count": 6,
   "metadata": {
    "collapsed": true
   },
   "outputs": [],
   "source": [
    "def supply_rule(model, plant):\n",
    "  return sum(model.shipment_quantities_in_cases[plant,market] for market in model.markets) <= model.capacity_plant[plant]\n",
    "\n",
    "def demand_rule(model, market):\n",
    "  return sum(model.shipment_quantities_in_cases[plant, market] for plant in model.plants) >= model.demand_market[market] \n",
    "\n",
    "model.supply_constraint = Constraint(model.plants, rule=supply_rule, doc='Limit supply limit at each plant')\n",
    "model.demand_constraint = Constraint(model.markets, rule=demand_rule, doc='Satisfy demand at each market')"
   ]
  },
  {
   "cell_type": "markdown",
   "metadata": {},
   "source": [
    "## Objective"
   ]
  },
  {
   "cell_type": "code",
   "execution_count": 7,
   "metadata": {
    "collapsed": false
   },
   "outputs": [],
   "source": [
    "def objective_rule(model):\n",
    "  return sum(model.freight_costs_per_case_in_thousands[plant,market]*model.shipment_quantities_in_cases[plant,market] \n",
    "             for plant in model.plants for market in model.markets)\n",
    "model.objective = Objective(rule=objective_rule, sense=minimize, doc='Define objective function')"
   ]
  },
  {
   "cell_type": "markdown",
   "metadata": {},
   "source": [
    "# Create a concrete instance of the abstract model"
   ]
  },
  {
   "cell_type": "code",
   "execution_count": 8,
   "metadata": {
    "collapsed": false
   },
   "outputs": [],
   "source": [
    "instance = model.create_instance(filename='trnsprt.dat')"
   ]
  },
  {
   "cell_type": "markdown",
   "metadata": {},
   "source": [
    "## Retrieving the output"
   ]
  },
  {
   "cell_type": "code",
   "execution_count": 9,
   "metadata": {
    "collapsed": true
   },
   "outputs": [],
   "source": [
    "def pyomo_postprocess(options=None, instance=None, results=None):\n",
    "  instance.shipment_quantities_in_cases.display()"
   ]
  },
  {
   "cell_type": "markdown",
   "metadata": {},
   "source": [
    "## Running the model"
   ]
  },
  {
   "cell_type": "code",
   "execution_count": 10,
   "metadata": {
    "collapsed": false
   },
   "outputs": [
    {
     "name": "stdout",
     "output_type": "stream",
     "text": [
      "# ==========================================================\n",
      "# = Solver Results                                         =\n",
      "# ==========================================================\n",
      "# ----------------------------------------------------------\n",
      "#   Problem Information\n",
      "# ----------------------------------------------------------\n",
      "Problem: \n",
      "- Name: unknown\n",
      "  Lower bound: 153.675\n",
      "  Upper bound: 153.675\n",
      "  Number of objectives: 1\n",
      "  Number of constraints: 6\n",
      "  Number of variables: 7\n",
      "  Number of nonzeros: 13\n",
      "  Sense: minimize\n",
      "# ----------------------------------------------------------\n",
      "#   Solver Information\n",
      "# ----------------------------------------------------------\n",
      "Solver: \n",
      "- Status: ok\n",
      "  Termination condition: optimal\n",
      "  Statistics: \n",
      "    Branch and bound: \n",
      "      Number of bounded subproblems: 0\n",
      "      Number of created subproblems: 0\n",
      "  Error rc: 0\n",
      "  Time: 0.020014286041259766\n",
      "# ----------------------------------------------------------\n",
      "#   Solution Information\n",
      "# ----------------------------------------------------------\n",
      "Solution: \n",
      "- number of solutions: 0\n",
      "  number of solutions displayed: 0\n",
      "\n",
      "Displaying Solution\n",
      "------------------------------------------------------------\n",
      "shipment_quantities_in_cases : Shipment quantities in case\n",
      "    Size=6, Index=shipment_quantities_in_cases_index\n",
      "    Key                       : Lower : Value : Upper : Fixed : Stale : Domain\n",
      "     ('san-diego', 'chicago') :     0 :   0.0 :  None : False : False :  Reals\n",
      "    ('san-diego', 'new-york') :     0 : 325.0 :  None : False : False :  Reals\n",
      "      ('san-diego', 'topeka') :     0 : 275.0 :  None : False : False :  Reals\n",
      "       ('seattle', 'chicago') :     0 : 300.0 :  None : False : False :  Reals\n",
      "      ('seattle', 'new-york') :     0 :   0.0 :  None : False : False :  Reals\n",
      "        ('seattle', 'topeka') :     0 :   0.0 :  None : False : False :  Reals\n"
     ]
    }
   ],
   "source": [
    "from pyomo.opt import SolverFactory\n",
    "opt = SolverFactory(\"glpk\")\n",
    "results = opt.solve(instance)\n",
    "#sends results to stdout\n",
    "results.write()\n",
    "print(\"\\nDisplaying Solution\\n\" + '-'*60)\n",
    "pyomo_postprocess(None, instance, results)"
   ]
  }
 ],
 "metadata": {
  "anaconda-cloud": {},
  "kernelspec": {
   "display_name": "Python [default]",
   "language": "python",
   "name": "python3"
  },
  "language_info": {
   "codemirror_mode": {
    "name": "ipython",
    "version": 3
   },
   "file_extension": ".py",
   "mimetype": "text/x-python",
   "name": "python",
   "nbconvert_exporter": "python",
   "pygments_lexer": "ipython3",
   "version": "3.5.2"
  }
 },
 "nbformat": 4,
 "nbformat_minor": 1
}
